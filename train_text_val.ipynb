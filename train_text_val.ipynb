{
 "cells": [
  {
   "cell_type": "code",
   "execution_count": 1,
   "metadata": {},
   "outputs": [],
   "source": [
    "import os\n",
    "import tqdm\n",
    "from sklearn.model_selection import train_test_split\n",
    "import pickle"
   ]
  },
  {
   "cell_type": "code",
   "execution_count": 2,
   "metadata": {},
   "outputs": [],
   "source": [
    "# root_dir = 'C:\\workspace\\Freematiq\\groccery_short100_dataset/'\n",
    "root_dir = \"/home/administrator/data/database/dataset/ASVspoof2017_V2_train\"\n",
    "all_dir = os.listdir(os.path.join(root_dir))\n",
    "\n",
    "def generate_full_path(lst, dir):\n",
    "    res_lst = []\n",
    "    for l in lst:\n",
    "        res_lst.append(os.path.join(root_dir, dir, l))\n",
    "    return res_lst\n",
    "\n",
    "def write_to_file(data:list, filename:str):\n",
    "    with open(filename, 'w') as out:\n",
    "        for item in data:\n",
    "            out.writelines(item + '\\n')\n",
    "            \n",
    "def csv_to_pcl_save(csv_path, save_path):\n",
    "    with open(os.path.join(csv_path), \"rt\") as csvfile:\n",
    "        reader = csv.reader(csvfile, delimiter=';', quotechar='|')\n",
    "        mydict = dict((rows[0],rows[1]) for rows in reader)\n",
    "    with open(os.path.join(save_path), 'wb') as handle:\n",
    "        pickle.dump(mydict, handle, protocol=pickle.HIGHEST_PROTOCOL)"
   ]
  },
  {
   "cell_type": "code",
   "execution_count": 3,
   "metadata": {},
   "outputs": [
    {
     "name": "stderr",
     "output_type": "stream",
     "text": [
      "100%|█████████████████████████████████████████████████████████████████████████████████| 32/32 [00:00<00:00, 711.58it/s]\n"
     ]
    }
   ],
   "source": [
    "all_files = []\n",
    "for dir in tqdm.tqdm(all_dir):\n",
    "    filenames = list(filter(lambda x: x[-4:] == '.jpg',\n",
    "                           generate_full_path(os.listdir(os.path.join(root_dir, dir)), dir)))\n",
    "    all_files +=filenames\n",
    "    \n",
    "train, val_test = train_test_split(all_files, test_size=0.3, random_state=42)\n",
    "test, val = train_test_split(val_test, test_size=0.5, random_state=42)"
   ]
  },
  {
   "cell_type": "code",
   "execution_count": 5,
   "metadata": {},
   "outputs": [],
   "source": [
    "save_dir = 'D:\\\\Projects\\\\data\\FlickrLogos-32_dataset_v2\\\\FlickrLogos-v2\\\\classes'\n",
    "write_to_file(train, os.path.join(save_dir, \"train_test_val\", \"train.txt\"))\n",
    "write_to_file(test, os.path.join(save_dir, \"train_test_val\", \"test.txt\"))\n",
    "write_to_file(val, os.path.join(save_dir, \"train_test_val\", \"val.txt\"))"
   ]
  },
  {
   "cell_type": "code",
   "execution_count": 74,
   "metadata": {},
   "outputs": [],
   "source": [
    "str1 = 'C:\\\\Users\\\\unifo\\\\data\\\\TRAINING\\\\prd072\\\\prd072_pos3_330.jpg'"
   ]
  },
  {
   "cell_type": "code",
   "execution_count": 78,
   "metadata": {},
   "outputs": [
    {
     "data": {
      "text/plain": [
       "'prd072'"
      ]
     },
     "execution_count": 78,
     "metadata": {},
     "output_type": "execute_result"
    }
   ],
   "source": [
    "str1.split(\"\\\\\")[-2]"
   ]
  },
  {
   "cell_type": "code",
   "execution_count": 83,
   "metadata": {},
   "outputs": [],
   "source": [
    "with open(os.path.join(root_dir, \"extra_files\", \"train.txt\"), 'r') as f:\n",
    "    data = f.read().splitlines()"
   ]
  },
  {
   "cell_type": "code",
   "execution_count": 7,
   "metadata": {},
   "outputs": [
    {
     "data": {
      "text/plain": [
       "1"
      ]
     },
     "execution_count": 7,
     "metadata": {},
     "output_type": "execute_result"
    }
   ],
   "source": [
    "int(True)"
   ]
  },
  {
   "cell_type": "code",
   "execution_count": null,
   "metadata": {},
   "outputs": [],
   "source": []
  },
  {
   "cell_type": "code",
   "execution_count": null,
   "metadata": {},
   "outputs": [],
   "source": []
  },
  {
   "cell_type": "code",
   "execution_count": 3,
   "metadata": {},
   "outputs": [],
   "source": [
    "with open(os.path.join(\"/home/administrator/data/database/protocol_V2/ASVspoof2017_V2_train.trn.txt\"), 'r') as f:\n",
    "    data = f.read().splitlines()"
   ]
  },
  {
   "cell_type": "code",
   "execution_count": 5,
   "metadata": {},
   "outputs": [
    {
     "data": {
      "text/plain": [
       "['T_1000001.wav', 'genuine', 'M0002', 'S05', '-', '-', '-']"
      ]
     },
     "execution_count": 5,
     "metadata": {},
     "output_type": "execute_result"
    }
   ],
   "source": [
    "data[0].split()"
   ]
  },
  {
   "cell_type": "code",
   "execution_count": null,
   "metadata": {},
   "outputs": [],
   "source": []
  }
 ],
 "metadata": {
  "kernelspec": {
   "display_name": "Python 3",
   "language": "python",
   "name": "python3"
  },
  "language_info": {
   "codemirror_mode": {
    "name": "ipython",
    "version": 3
   },
   "file_extension": ".py",
   "mimetype": "text/x-python",
   "name": "python",
   "nbconvert_exporter": "python",
   "pygments_lexer": "ipython3",
   "version": "3.6.6"
  }
 },
 "nbformat": 4,
 "nbformat_minor": 2
}
